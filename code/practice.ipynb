https://towardsdatascience.com/machine-learning-and-recommender-systems-using-your-own-spotify-data-4918d80632e3
https://developer.spotify.com/community/showcase/spotify-audio-analysis/
https://towardsdatascience.com/extracting-song-data-from-the-spotify-api-using-python-b1e79388d50
